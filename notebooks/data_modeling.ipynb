{
 "cells": [
  {
   "cell_type": "code",
   "execution_count": 1,
   "metadata": {},
   "outputs": [],
   "source": [
    "# Imports\n",
    "import pandas as pd\n",
    "import sqlite3"
   ]
  },
  {
   "cell_type": "markdown",
   "metadata": {},
   "source": [
    "## Load Processed Dataframe"
   ]
  },
  {
   "cell_type": "markdown",
   "metadata": {},
   "source": [
    "---"
   ]
  },
  {
   "cell_type": "code",
   "execution_count": 2,
   "metadata": {},
   "outputs": [],
   "source": [
    "# Load processed dataframe\n",
    "aig_df = pd.read_csv('../data/processed/aig_data_processed.csv')"
   ]
  },
  {
   "cell_type": "markdown",
   "metadata": {},
   "source": [
    "## Data Modeling for Data Warehousing"
   ]
  },
  {
   "cell_type": "markdown",
   "metadata": {},
   "source": [
    "---"
   ]
  },
  {
   "cell_type": "markdown",
   "metadata": {},
   "source": [
    "For this specific use case, since it is desired to do analytics on the data, it is necesary get a schema that helps simplifying queries, improving performance and facilitates the analysis. Thus, a `Star Schema` will be ideal.\n",
    "\n",
    "In this schema I will include a fact table for `Flights` referencing to relevant dimension tables for `OpCo and Subsidiaries`, `Airports`, `Time`, `Cabin and Service`.\n",
    "\n",
    "Lastly, I will ensure that each dimension table has unique entries for its attributes. For the `Flights` fact table, I will use foreign keys that reference the primary keys in the dimension tables. This setup will allow efficient querying and aggregation of data."
   ]
  },
  {
   "cell_type": "markdown",
   "metadata": {},
   "source": [
    "### **Creating DB and Tables in a SQLite DDBB**\n",
    "\n",
    "For simplicity and portability, I will be using a SQLite3 DDBB to populate the data that later will be copied into a Redshift data warehoue."
   ]
  },
  {
   "cell_type": "code",
   "execution_count": 3,
   "metadata": {},
   "outputs": [],
   "source": [
    "# SQLite database\n",
    "conn = sqlite3.connect('../data/processed/aig_data_warehouse.db')\n",
    "\n",
    "# Cursor object\n",
    "cursor = conn.cursor()\n",
    "\n",
    "# Create Dim_OpCo table\n",
    "cursor.execute('''\n",
    "CREATE TABLE IF NOT EXISTS Dim_OpCo (\n",
    "    OpCo_ID INTEGER PRIMARY KEY AUTOINCREMENT,\n",
    "    OpCo_Code TEXT UNIQUE,\n",
    "    OpCo_Name TEXT,\n",
    "    Subsidiary_Code TEXT,\n",
    "    Subsidiary_Name TEXT\n",
    ")\n",
    "''')\n",
    "\n",
    "# Create Dim_Airport table\n",
    "cursor.execute('''\n",
    "CREATE TABLE IF NOT EXISTS Dim_Airport (\n",
    "    Airport_ID INTEGER PRIMARY KEY AUTOINCREMENT,\n",
    "    Airport_Code TEXT UNIQUE,\n",
    "    Airport_Name TEXT,\n",
    "    Country_Code TEXT,\n",
    "    Country_Name TEXT,\n",
    "    Region TEXT\n",
    ")\n",
    "''')\n",
    "\n",
    "# Create Dim_Time table\n",
    "cursor.execute('''\n",
    "CREATE TABLE IF NOT EXISTS Dim_Time (\n",
    "    Time_ID INTEGER PRIMARY KEY AUTOINCREMENT,\n",
    "    Date DATE UNIQUE,\n",
    "    Year INTEGER,\n",
    "    Quarter INTEGER\n",
    ")\n",
    "''')\n",
    "\n",
    "# Create Fact_Flights table\n",
    "cursor.execute('''\n",
    "CREATE TABLE IF NOT EXISTS Fact_Flights (\n",
    "    Flight_ID INTEGER PRIMARY KEY AUTOINCREMENT,\n",
    "    OpCo_ID INTEGER,\n",
    "    Departure_Airport_ID INTEGER,\n",
    "    Arrival_Airport_ID INTEGER,\n",
    "    Time_ID INTEGER,\n",
    "    Aircraft_Type TEXT,\n",
    "    Cabin TEXT,\n",
    "    Service TEXT,\n",
    "    Passengers INTEGER,\n",
    "    Flights INTEGER,\n",
    "    FOREIGN KEY (OpCo_ID) REFERENCES Dim_OpCo(OpCo_ID),\n",
    "    FOREIGN KEY (Departure_Airport_ID) REFERENCES Dim_Airport(Airport_ID),\n",
    "    FOREIGN KEY (Arrival_Airport_ID) REFERENCES Dim_Airport(Airport_ID),\n",
    "    FOREIGN KEY (Time_ID) REFERENCES Dim_Time(Time_ID)\n",
    ")\n",
    "''')\n",
    "\n",
    "# Commit the changes and close the connection\n",
    "conn.commit()\n",
    "conn.close()"
   ]
  },
  {
   "cell_type": "markdown",
   "metadata": {},
   "source": [
    "### **Populate the Tables**"
   ]
  },
  {
   "cell_type": "code",
   "execution_count": 4,
   "metadata": {},
   "outputs": [
    {
     "data": {
      "text/plain": [
       "Index(['OpCo_Code', 'OpCo_Name', 'Subsidiary_Code', 'Subsidiary_Name',\n",
       "       'Departure_Airport_Code', 'Departure_Airport_Name',\n",
       "       'Departure_Country_Code', 'Departure_Country_Name', 'Departure_Region',\n",
       "       'Arrival_Airport_Code', 'Arrival_Airport_Name', 'Arrival_Country_Code',\n",
       "       'Arrival_Country_Name', 'Arrival_Region', 'Aircraft_Type', 'Date',\n",
       "       'Cabin', 'Service', 'Passengers', 'Flights', 'Year', 'Quarter'],\n",
       "      dtype='object')"
      ]
     },
     "execution_count": 4,
     "metadata": {},
     "output_type": "execute_result"
    }
   ],
   "source": [
    "aig_df.columns"
   ]
  },
  {
   "cell_type": "code",
   "execution_count": 5,
   "metadata": {},
   "outputs": [],
   "source": [
    "# Populate Aircraft dimension table\n",
    "def insert_dim_opco(conn, row):\n",
    "    cursor = conn.cursor()\n",
    "    try:\n",
    "        cursor.execute('''INSERT OR IGNORE INTO Dim_OpCo (OpCo_Code, OpCo_Name, Subsidiary_Code, Subsidiary_Name)\n",
    "                        VALUES (?, ?, ?, ?)''',\n",
    "                    (row['OpCo_Code'], row['OpCo_Name'], row['Subsidiary_Code'], row['Subsidiary_Name']))\n",
    "        cursor.execute('SELECT OpCo_ID FROM Dim_OpCo WHERE OpCo_Code = ?', (row['OpCo_Code'],))\n",
    "        result = cursor.fetchone()\n",
    "        if result is None:\n",
    "            raise ValueError(f\"OpCo_ID not found for OpCo_Code {row['OpCo_Code']}\")\n",
    "        return result[0]\n",
    "    except sqlite3.Error as e:\n",
    "        raise sqlite3.Error(f\"Failure in insert_dim_opco: {e}\")\n",
    "    finally:\n",
    "        cursor.close()\n",
    "\n",
    "# Populate Airport dimension table\n",
    "def insert_dim_airport(conn, row, airport_code, airport_name, country_code, country_name, region):\n",
    "    cursor = conn.cursor()\n",
    "    try:\n",
    "        cursor.execute('''INSERT OR IGNORE INTO Dim_Airport (Airport_Code, Airport_Name, Country_Code, Country_Name, Region)\n",
    "                        VALUES (?, ?, ?, ?, ?)''',\n",
    "                    (row[airport_code], row[airport_name], row[country_code], row[country_name], row[region]))\n",
    "        cursor.execute('SELECT Airport_ID FROM Dim_Airport WHERE Airport_Code = ?', (row[airport_code],))\n",
    "        return cursor.fetchone()[0]\n",
    "    except sqlite3.Error as e:\n",
    "        raise sqlite3.Error(f\"Failure in insert_dim_airport: {e}\")\n",
    "    finally:\n",
    "        cursor.close()\n",
    "\n",
    "# Populate Time dimension table\n",
    "def insert_dim_time(conn, row):\n",
    "    cursor = conn.cursor()\n",
    "    try:\n",
    "        cursor.execute('''INSERT OR IGNORE INTO Dim_Time (Date, Year, Quarter)\n",
    "                        VALUES (?, ?, ?)''',\n",
    "                    (row['Date'], row['Year'], row['Quarter']))\n",
    "        cursor.execute('SELECT Time_ID FROM Dim_Time WHERE Date = ?', (row['Date'],))\n",
    "        return cursor.fetchone()[0]\n",
    "    except sqlite3.Error as e:\n",
    "        raise sqlite3.Error(f\"Failure in insert_dim_time: {e}\")\n",
    "    finally:\n",
    "        cursor.close()\n",
    "\n",
    "# Populate Flight fact table\n",
    "def insert_fact_flights(conn, row, opco_id, departure_airport_id, arrival_airport_id, time_id):\n",
    "    cursor = conn.cursor()\n",
    "    try:\n",
    "        cursor.execute('''INSERT INTO Fact_Flights (OpCo_ID, Departure_Airport_ID, Arrival_Airport_ID, Time_ID, Aircraft_Type, Cabin, Service, Passengers, Flights)\n",
    "                        VALUES (?, ?, ?, ?, ?, ?, ?, ?, ?)''',\n",
    "                    (opco_id, departure_airport_id, arrival_airport_id, time_id, row['Aircraft_Type'], row['Cabin'], row['Service'], row['Passengers'], row['Flights']))\n",
    "    except sqlite3.Error as e:\n",
    "        raise sqlite3.Error(f\"Failure in insert_fact_flights: {e}\")\n",
    "    finally:\n",
    "        cursor.close()\n",
    "\n",
    "# Populating DDBB\n",
    "def main(conn):\n",
    "    try:\n",
    "        for _, row in aig_df.iterrows():\n",
    "            opco_id = insert_dim_opco(conn, row)\n",
    "            departure_airport_id = insert_dim_airport(conn, row, 'Departure_Airport_Code', 'Departure_Airport_Name', 'Departure_Country_Code', 'Departure_Country_Name', 'Departure_Region')\n",
    "            arrival_airport_id = insert_dim_airport(conn, row, 'Arrival_Airport_Code', 'Arrival_Airport_Name', 'Arrival_Country_Code', 'Arrival_Country_Name', 'Arrival_Region')\n",
    "            time_id = insert_dim_time(conn, row)\n",
    "            insert_fact_flights(conn, row, opco_id, departure_airport_id, arrival_airport_id, time_id)\n",
    "    except Exception as e:  # Catching a broad exception\n",
    "        print(f\"An error occurred during general data insertion: {e}\")\n",
    "        conn.rollback()  # Rollback any changes if part of the operations failed\n",
    "    else:\n",
    "        conn.commit()  # Commit the transaction if all operations succeeded\n",
    "\n",
    "# Connect to the SQLite DB\n",
    "with sqlite3.connect('../data/processed/aig_data_warehouse.db') as conn:\n",
    "    main(conn)"
   ]
  },
  {
   "cell_type": "code",
   "execution_count": null,
   "metadata": {},
   "outputs": [],
   "source": []
  }
 ],
 "metadata": {
  "kernelspec": {
   "display_name": "airline-data-hub-o2OCMei0-py3.11",
   "language": "python",
   "name": "python3"
  },
  "language_info": {
   "codemirror_mode": {
    "name": "ipython",
    "version": 3
   },
   "file_extension": ".py",
   "mimetype": "text/x-python",
   "name": "python",
   "nbconvert_exporter": "python",
   "pygments_lexer": "ipython3",
   "version": "3.11.6"
  }
 },
 "nbformat": 4,
 "nbformat_minor": 2
}
