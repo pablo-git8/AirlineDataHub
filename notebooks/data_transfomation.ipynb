{
 "cells": [
  {
   "cell_type": "code",
   "execution_count": null,
   "metadata": {},
   "outputs": [],
   "source": [
    "# TODO: Transformations\n",
    "## - Impute 'No Subsidiary'\n",
    "## - Replace Vueling+ with Vueling\n",
    "## - Remove special characters in countrie's names\n",
    "## - Put date in datetime format\n",
    "## - Rename colums for Warehousing"
   ]
  }
 ],
 "metadata": {
  "language_info": {
   "name": "python"
  }
 },
 "nbformat": 4,
 "nbformat_minor": 2
}
