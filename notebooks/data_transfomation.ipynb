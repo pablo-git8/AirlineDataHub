{
 "cells": [
  {
   "cell_type": "code",
   "execution_count": 107,
   "metadata": {},
   "outputs": [],
   "source": [
    "# Imports\n",
    "import pandas as pd\n",
    "import re"
   ]
  },
  {
   "cell_type": "markdown",
   "metadata": {},
   "source": [
    "## Load Raw Dataframe"
   ]
  },
  {
   "cell_type": "markdown",
   "metadata": {},
   "source": [
    "---"
   ]
  },
  {
   "cell_type": "code",
   "execution_count": 108,
   "metadata": {},
   "outputs": [],
   "source": [
    "# Load raw dataframe\n",
    "aig_df = pd.read_csv('../data/raw/Sample_Data.csv')"
   ]
  },
  {
   "cell_type": "markdown",
   "metadata": {},
   "source": [
    "## Data Transformation"
   ]
  },
  {
   "cell_type": "markdown",
   "metadata": {},
   "source": [
    "---"
   ]
  },
  {
   "cell_type": "markdown",
   "metadata": {},
   "source": [
    "### **Transformation (EDA-1)**\n",
    "\n",
    "Impute `Subsidiary`, `Subsidiary Name` missing values with 'No subsidiary' and `Aircraft type` with 'Not specified'."
   ]
  },
  {
   "cell_type": "code",
   "execution_count": 109,
   "metadata": {},
   "outputs": [
    {
     "name": "stdout",
     "output_type": "stream",
     "text": [
      "<class 'pandas.core.frame.DataFrame'>\n",
      "RangeIndex: 3460 entries, 0 to 3459\n",
      "Data columns (total 20 columns):\n",
      " #   Column                  Non-Null Count  Dtype \n",
      "---  ------                  --------------  ----- \n",
      " 0   OpCo                    3460 non-null   object\n",
      " 1   OpCo Name               3460 non-null   object\n",
      " 2   Subsidiary              3460 non-null   object\n",
      " 3   Subsidiary Name         3460 non-null   object\n",
      " 4   Departure Airport       3460 non-null   object\n",
      " 5   Departure Airport Name  3460 non-null   object\n",
      " 6   Departure Country       3460 non-null   object\n",
      " 7   Departure Country Name  3460 non-null   object\n",
      " 8   Departure Region        3460 non-null   object\n",
      " 9   Arrival Airport         3460 non-null   object\n",
      " 10  Arrival Airport Name    3460 non-null   object\n",
      " 11  Arrival Country         3460 non-null   object\n",
      " 12  Arrival Country Name    3460 non-null   object\n",
      " 13  Arrival Region          3460 non-null   object\n",
      " 14  Aircraft type           3460 non-null   object\n",
      " 15  Date                    3460 non-null   object\n",
      " 16  Cabin                   3460 non-null   object\n",
      " 17  Service                 3460 non-null   object\n",
      " 18  # Passengers            3460 non-null   int64 \n",
      " 19  # Flights               3460 non-null   int64 \n",
      "dtypes: int64(2), object(18)\n",
      "memory usage: 540.8+ KB\n"
     ]
    }
   ],
   "source": [
    "# Address missing values in 'Subsidiary', 'Subsidiary Name' and 'Aircraft type' columns accordingly\n",
    "aig_df['Subsidiary'] = aig_df['Subsidiary'].fillna('NS')\n",
    "aig_df['Subsidiary Name'] = aig_df['Subsidiary Name'].fillna('No subsidiary')\n",
    "aig_df['Aircraft type'] = aig_df['Aircraft type'].fillna('Not specified')\n",
    "\n",
    "# Check for remaining missing values\n",
    "aig_df.info()"
   ]
  },
  {
   "cell_type": "markdown",
   "metadata": {},
   "source": [
    "### **Transformation (EDA-2)**\n",
    "\n",
    "Replace 'Vueling+' instance with 'Vueling' for consistency in `OpCo Name` column."
   ]
  },
  {
   "cell_type": "code",
   "execution_count": 110,
   "metadata": {},
   "outputs": [
    {
     "name": "stdout",
     "output_type": "stream",
     "text": [
      "['Vueling' 'British Airways' 'Level' 'Iberia' 'Aer Lingus'\n",
      " 'Iberia Express']\n"
     ]
    }
   ],
   "source": [
    "# Replace 'Vueling+' with 'Vueling' in 'OpCo Name' column\n",
    "aig_df['OpCo Name'] = aig_df['OpCo Name'].replace('Vueling+', 'Vueling')\n",
    "\n",
    "# Check for unique values in 'OpCo Name'\n",
    "print(aig_df['OpCo Name'].unique())"
   ]
  },
  {
   "cell_type": "markdown",
   "metadata": {},
   "source": [
    "### **Transformation (EDA-3)**\n",
    "\n",
    "Remove special characters in `Arrival/Departure Country Name` for standarization for names in English."
   ]
  },
  {
   "cell_type": "code",
   "execution_count": 111,
   "metadata": {},
   "outputs": [],
   "source": [
    "# Clean and standardize country names\n",
    "clean_country_names = lambda name: re.sub(r'[^a-zA-Z0-9\\s\\.,-]', '', name.strip()).title()\n",
    "\n",
    "# Apply the cleaning function directly within the assignment\n",
    "aig_df['Arrival Country Name'] = aig_df['Arrival Country Name'].apply(clean_country_names)\n",
    "aig_df['Departure Country Name'] = aig_df['Departure Country Name'].apply(clean_country_names)"
   ]
  },
  {
   "cell_type": "code",
   "execution_count": 112,
   "metadata": {},
   "outputs": [
    {
     "name": "stdout",
     "output_type": "stream",
     "text": [
      "Instances with invalid characters in 'Country Names': 0\n"
     ]
    }
   ],
   "source": [
    "# Validation\n",
    "regex = r'[^a-zA-Z0-9\\s\\.,-]' # Regex expression\n",
    "\n",
    "# Identify and filter invalid records in a single step\n",
    "invalid_rows_df = aig_df[aig_df[['Departure Country Name', 'Arrival Country Name']]\\\n",
    "                         .apply(lambda x: x.str.contains(regex)).any(axis=1)]\n",
    "\n",
    "print(f\"Instances with invalid characters in 'Country Names': {len(invalid_rows_df[['Departure Country Name', 'Arrival Country Name']])}\")"
   ]
  },
  {
   "cell_type": "markdown",
   "metadata": {},
   "source": [
    "### **Transformation (EDA-4)**\n",
    "\n",
    "Convert `Date` column with date strings to datetime objects instead of strings, which will allow us to perform datetime operations on this column."
   ]
  },
  {
   "cell_type": "code",
   "execution_count": 113,
   "metadata": {},
   "outputs": [
    {
     "name": "stdout",
     "output_type": "stream",
     "text": [
      "<class 'pandas.core.frame.DataFrame'>\n",
      "RangeIndex: 3460 entries, 0 to 3459\n",
      "Data columns (total 20 columns):\n",
      " #   Column                  Non-Null Count  Dtype         \n",
      "---  ------                  --------------  -----         \n",
      " 0   OpCo                    3460 non-null   object        \n",
      " 1   OpCo Name               3460 non-null   object        \n",
      " 2   Subsidiary              3460 non-null   object        \n",
      " 3   Subsidiary Name         3460 non-null   object        \n",
      " 4   Departure Airport       3460 non-null   object        \n",
      " 5   Departure Airport Name  3460 non-null   object        \n",
      " 6   Departure Country       3460 non-null   object        \n",
      " 7   Departure Country Name  3460 non-null   object        \n",
      " 8   Departure Region        3460 non-null   object        \n",
      " 9   Arrival Airport         3460 non-null   object        \n",
      " 10  Arrival Airport Name    3460 non-null   object        \n",
      " 11  Arrival Country         3460 non-null   object        \n",
      " 12  Arrival Country Name    3460 non-null   object        \n",
      " 13  Arrival Region          3460 non-null   object        \n",
      " 14  Aircraft type           3460 non-null   object        \n",
      " 15  Date                    3460 non-null   datetime64[ns]\n",
      " 16  Cabin                   3460 non-null   object        \n",
      " 17  Service                 3460 non-null   object        \n",
      " 18  # Passengers            3460 non-null   int64         \n",
      " 19  # Flights               3460 non-null   int64         \n",
      "dtypes: datetime64[ns](1), int64(2), object(17)\n",
      "memory usage: 540.8+ KB\n"
     ]
    }
   ],
   "source": [
    "# Convert 'Date' column to datetime objects\n",
    "aig_df['Date'] = pd.to_datetime(aig_df['Date'])\n",
    "\n",
    "# Check datatypes for validation\n",
    "aig_df.info()"
   ]
  },
  {
   "cell_type": "markdown",
   "metadata": {},
   "source": [
    "### **Transformation (EDA-6)**\n",
    "\n",
    "Adjust column names and add necessary fields to optimize for data modeling and integration into data warehouses."
   ]
  },
  {
   "cell_type": "code",
   "execution_count": 114,
   "metadata": {},
   "outputs": [
    {
     "data": {
      "text/plain": [
       "Index(['OpCo', 'OpCo Name', 'Subsidiary', 'Subsidiary Name',\n",
       "       'Departure Airport', 'Departure Airport Name', 'Departure Country',\n",
       "       'Departure Country Name', 'Departure Region', 'Arrival Airport',\n",
       "       'Arrival Airport Name', 'Arrival Country', 'Arrival Country Name',\n",
       "       'Arrival Region', 'Aircraft type', 'Date', 'Cabin', 'Service',\n",
       "       '# Passengers', '# Flights'],\n",
       "      dtype='object')"
      ]
     },
     "execution_count": 114,
     "metadata": {},
     "output_type": "execute_result"
    }
   ],
   "source": [
    "# Check current columns\n",
    "aig_df.columns"
   ]
  },
  {
   "cell_type": "code",
   "execution_count": 115,
   "metadata": {},
   "outputs": [],
   "source": [
    "# Rename columns\n",
    "aig_df.rename(columns={\n",
    "    'OpCo': 'OpCo_Code',\n",
    "    'OpCo Name': 'OpCo_Name',\n",
    "    'Subsidiary': 'Subsidiary_Code',\n",
    "    'Subsidiary Name': 'Subsidiary_Name',\n",
    "    'Departure Airport': 'Departure_Airport_Code',\n",
    "    'Departure Airport Name': 'Departure_Airport_Name',\n",
    "    'Departure Country': 'Departure_Country_Code',\n",
    "    'Departure Country Name': 'Departure_Country_Name',\n",
    "    'Departure Region': 'Departure_Region',\n",
    "    'Arrival Airport': 'Arrival_Airport_Code',\n",
    "    'Arrival Airport Name': 'Arrival_Airport_Name',\n",
    "    'Arrival Country': 'Arrival_Country_Code',\n",
    "    'Arrival Country Name': 'Arrival_Country_Name',\n",
    "    'Arrival Region': 'Arrival_Region',\n",
    "    'Aircraft type': 'Aircraft_Type',\n",
    "    '# Passengers': 'Passengers',\n",
    "    '# Flights': 'Flights'\n",
    "}, inplace=True)"
   ]
  },
  {
   "cell_type": "code",
   "execution_count": 116,
   "metadata": {},
   "outputs": [],
   "source": [
    "# Extract 'Year' and 'Quarter' from 'Date'\n",
    "aig_df['Year'] = aig_df['Date'].dt.year\n",
    "aig_df['Quarter'] = aig_df['Date'].dt.quarter"
   ]
  },
  {
   "cell_type": "markdown",
   "metadata": {},
   "source": [
    "### **Data Integrity Check (Transformation Phase)**\n",
    "\n",
    "Prior to database insertion, an essential intermediary verification will be conducted to ensure the absence of duplicate entries, maintaining data integrity."
   ]
  },
  {
   "cell_type": "code",
   "execution_count": 117,
   "metadata": {},
   "outputs": [],
   "source": [
    "# Remove any duplicated rows based on all columns\n",
    "aig_df = aig_df.drop_duplicates()"
   ]
  },
  {
   "cell_type": "markdown",
   "metadata": {},
   "source": [
    "**Check processed dataframe**"
   ]
  },
  {
   "cell_type": "code",
   "execution_count": 118,
   "metadata": {},
   "outputs": [
    {
     "data": {
      "text/html": [
       "<div>\n",
       "<style scoped>\n",
       "    .dataframe tbody tr th:only-of-type {\n",
       "        vertical-align: middle;\n",
       "    }\n",
       "\n",
       "    .dataframe tbody tr th {\n",
       "        vertical-align: top;\n",
       "    }\n",
       "\n",
       "    .dataframe thead th {\n",
       "        text-align: right;\n",
       "    }\n",
       "</style>\n",
       "<table border=\"1\" class=\"dataframe\">\n",
       "  <thead>\n",
       "    <tr style=\"text-align: right;\">\n",
       "      <th></th>\n",
       "      <th>OpCo_Code</th>\n",
       "      <th>OpCo_Name</th>\n",
       "      <th>Subsidiary_Code</th>\n",
       "      <th>Subsidiary_Name</th>\n",
       "      <th>Departure_Airport_Code</th>\n",
       "      <th>Departure_Airport_Name</th>\n",
       "      <th>Departure_Country_Code</th>\n",
       "      <th>Departure_Country_Name</th>\n",
       "      <th>Departure_Region</th>\n",
       "      <th>Arrival_Airport_Code</th>\n",
       "      <th>...</th>\n",
       "      <th>Arrival_Country_Name</th>\n",
       "      <th>Arrival_Region</th>\n",
       "      <th>Aircraft_Type</th>\n",
       "      <th>Date</th>\n",
       "      <th>Cabin</th>\n",
       "      <th>Service</th>\n",
       "      <th>Passengers</th>\n",
       "      <th>Flights</th>\n",
       "      <th>Year</th>\n",
       "      <th>Quarter</th>\n",
       "    </tr>\n",
       "  </thead>\n",
       "  <tbody>\n",
       "    <tr>\n",
       "      <th>0</th>\n",
       "      <td>VY</td>\n",
       "      <td>Vueling</td>\n",
       "      <td>NS</td>\n",
       "      <td>No subsidiary</td>\n",
       "      <td>BIO</td>\n",
       "      <td>BILBAO</td>\n",
       "      <td>ES</td>\n",
       "      <td>Spain</td>\n",
       "      <td>Europe/Domestic</td>\n",
       "      <td>BCN</td>\n",
       "      <td>...</td>\n",
       "      <td>Spain</td>\n",
       "      <td>Europe/Domestic</td>\n",
       "      <td>A320</td>\n",
       "      <td>2019-07-02</td>\n",
       "      <td>Economy</td>\n",
       "      <td>Non-Premium</td>\n",
       "      <td>220</td>\n",
       "      <td>9</td>\n",
       "      <td>2019</td>\n",
       "      <td>3</td>\n",
       "    </tr>\n",
       "    <tr>\n",
       "      <th>1</th>\n",
       "      <td>VY</td>\n",
       "      <td>Vueling</td>\n",
       "      <td>NS</td>\n",
       "      <td>No subsidiary</td>\n",
       "      <td>BCN</td>\n",
       "      <td>BARCELONA</td>\n",
       "      <td>ES</td>\n",
       "      <td>Spain</td>\n",
       "      <td>Europe/Domestic</td>\n",
       "      <td>BIO</td>\n",
       "      <td>...</td>\n",
       "      <td>Spain</td>\n",
       "      <td>Europe/Domestic</td>\n",
       "      <td>A320</td>\n",
       "      <td>2019-07-02</td>\n",
       "      <td>Economy</td>\n",
       "      <td>Non-Premium</td>\n",
       "      <td>503</td>\n",
       "      <td>6</td>\n",
       "      <td>2019</td>\n",
       "      <td>3</td>\n",
       "    </tr>\n",
       "    <tr>\n",
       "      <th>2</th>\n",
       "      <td>VY</td>\n",
       "      <td>Vueling</td>\n",
       "      <td>NS</td>\n",
       "      <td>No subsidiary</td>\n",
       "      <td>BIO</td>\n",
       "      <td>BILBAO</td>\n",
       "      <td>ES</td>\n",
       "      <td>Spain</td>\n",
       "      <td>Europe/Domestic</td>\n",
       "      <td>PMI</td>\n",
       "      <td>...</td>\n",
       "      <td>Spain</td>\n",
       "      <td>Europe/Domestic</td>\n",
       "      <td>A320</td>\n",
       "      <td>2019-07-02</td>\n",
       "      <td>Economy</td>\n",
       "      <td>Non-Premium</td>\n",
       "      <td>188</td>\n",
       "      <td>11</td>\n",
       "      <td>2019</td>\n",
       "      <td>3</td>\n",
       "    </tr>\n",
       "    <tr>\n",
       "      <th>3</th>\n",
       "      <td>VY</td>\n",
       "      <td>Vueling</td>\n",
       "      <td>NS</td>\n",
       "      <td>No subsidiary</td>\n",
       "      <td>PMI</td>\n",
       "      <td>PALMA</td>\n",
       "      <td>ES</td>\n",
       "      <td>Spain</td>\n",
       "      <td>Europe/Domestic</td>\n",
       "      <td>BIO</td>\n",
       "      <td>...</td>\n",
       "      <td>Spain</td>\n",
       "      <td>Europe/Domestic</td>\n",
       "      <td>A320</td>\n",
       "      <td>2019-07-02</td>\n",
       "      <td>Economy</td>\n",
       "      <td>Non-Premium</td>\n",
       "      <td>405</td>\n",
       "      <td>8</td>\n",
       "      <td>2019</td>\n",
       "      <td>3</td>\n",
       "    </tr>\n",
       "    <tr>\n",
       "      <th>4</th>\n",
       "      <td>VY</td>\n",
       "      <td>Vueling</td>\n",
       "      <td>NS</td>\n",
       "      <td>No subsidiary</td>\n",
       "      <td>BIO</td>\n",
       "      <td>BILBAO</td>\n",
       "      <td>ES</td>\n",
       "      <td>Spain</td>\n",
       "      <td>Europe/Domestic</td>\n",
       "      <td>LIS</td>\n",
       "      <td>...</td>\n",
       "      <td>Portugal</td>\n",
       "      <td>Europe</td>\n",
       "      <td>A320</td>\n",
       "      <td>2019-07-02</td>\n",
       "      <td>Economy</td>\n",
       "      <td>Non-Premium</td>\n",
       "      <td>152</td>\n",
       "      <td>20</td>\n",
       "      <td>2019</td>\n",
       "      <td>3</td>\n",
       "    </tr>\n",
       "  </tbody>\n",
       "</table>\n",
       "<p>5 rows × 22 columns</p>\n",
       "</div>"
      ],
      "text/plain": [
       "  OpCo_Code OpCo_Name Subsidiary_Code Subsidiary_Name Departure_Airport_Code  \\\n",
       "0        VY   Vueling              NS   No subsidiary                    BIO   \n",
       "1        VY   Vueling              NS   No subsidiary                    BCN   \n",
       "2        VY   Vueling              NS   No subsidiary                    BIO   \n",
       "3        VY   Vueling              NS   No subsidiary                    PMI   \n",
       "4        VY   Vueling              NS   No subsidiary                    BIO   \n",
       "\n",
       "  Departure_Airport_Name Departure_Country_Code Departure_Country_Name  \\\n",
       "0                 BILBAO                     ES                  Spain   \n",
       "1              BARCELONA                     ES                  Spain   \n",
       "2                 BILBAO                     ES                  Spain   \n",
       "3                  PALMA                     ES                  Spain   \n",
       "4                 BILBAO                     ES                  Spain   \n",
       "\n",
       "  Departure_Region Arrival_Airport_Code  ... Arrival_Country_Name  \\\n",
       "0  Europe/Domestic                  BCN  ...                Spain   \n",
       "1  Europe/Domestic                  BIO  ...                Spain   \n",
       "2  Europe/Domestic                  PMI  ...                Spain   \n",
       "3  Europe/Domestic                  BIO  ...                Spain   \n",
       "4  Europe/Domestic                  LIS  ...             Portugal   \n",
       "\n",
       "    Arrival_Region Aircraft_Type       Date    Cabin      Service Passengers  \\\n",
       "0  Europe/Domestic          A320 2019-07-02  Economy  Non-Premium        220   \n",
       "1  Europe/Domestic          A320 2019-07-02  Economy  Non-Premium        503   \n",
       "2  Europe/Domestic          A320 2019-07-02  Economy  Non-Premium        188   \n",
       "3  Europe/Domestic          A320 2019-07-02  Economy  Non-Premium        405   \n",
       "4           Europe          A320 2019-07-02  Economy  Non-Premium        152   \n",
       "\n",
       "  Flights  Year  Quarter  \n",
       "0       9  2019        3  \n",
       "1       6  2019        3  \n",
       "2      11  2019        3  \n",
       "3       8  2019        3  \n",
       "4      20  2019        3  \n",
       "\n",
       "[5 rows x 22 columns]"
      ]
     },
     "execution_count": 118,
     "metadata": {},
     "output_type": "execute_result"
    }
   ],
   "source": [
    "# First records\n",
    "aig_df.head()"
   ]
  },
  {
   "cell_type": "code",
   "execution_count": 119,
   "metadata": {},
   "outputs": [
    {
     "name": "stdout",
     "output_type": "stream",
     "text": [
      "<class 'pandas.core.frame.DataFrame'>\n",
      "Index: 2257 entries, 0 to 2256\n",
      "Data columns (total 22 columns):\n",
      " #   Column                  Non-Null Count  Dtype         \n",
      "---  ------                  --------------  -----         \n",
      " 0   OpCo_Code               2257 non-null   object        \n",
      " 1   OpCo_Name               2257 non-null   object        \n",
      " 2   Subsidiary_Code         2257 non-null   object        \n",
      " 3   Subsidiary_Name         2257 non-null   object        \n",
      " 4   Departure_Airport_Code  2257 non-null   object        \n",
      " 5   Departure_Airport_Name  2257 non-null   object        \n",
      " 6   Departure_Country_Code  2257 non-null   object        \n",
      " 7   Departure_Country_Name  2257 non-null   object        \n",
      " 8   Departure_Region        2257 non-null   object        \n",
      " 9   Arrival_Airport_Code    2257 non-null   object        \n",
      " 10  Arrival_Airport_Name    2257 non-null   object        \n",
      " 11  Arrival_Country_Code    2257 non-null   object        \n",
      " 12  Arrival_Country_Name    2257 non-null   object        \n",
      " 13  Arrival_Region          2257 non-null   object        \n",
      " 14  Aircraft_Type           2257 non-null   object        \n",
      " 15  Date                    2257 non-null   datetime64[ns]\n",
      " 16  Cabin                   2257 non-null   object        \n",
      " 17  Service                 2257 non-null   object        \n",
      " 18  Passengers              2257 non-null   int64         \n",
      " 19  Flights                 2257 non-null   int64         \n",
      " 20  Year                    2257 non-null   int32         \n",
      " 21  Quarter                 2257 non-null   int32         \n",
      "dtypes: datetime64[ns](1), int32(2), int64(2), object(17)\n",
      "memory usage: 387.9+ KB\n"
     ]
    }
   ],
   "source": [
    "# Dataframe info\n",
    "aig_df.info()"
   ]
  },
  {
   "cell_type": "markdown",
   "metadata": {},
   "source": [
    "## Saving Processed Dataframe"
   ]
  },
  {
   "cell_type": "markdown",
   "metadata": {},
   "source": [
    "---"
   ]
  },
  {
   "cell_type": "code",
   "execution_count": 120,
   "metadata": {},
   "outputs": [],
   "source": [
    "# Save the DataFrame to a CSV file\n",
    "aig_df.to_csv('../data/processed/aig_data_processed.csv', index=False)"
   ]
  }
 ],
 "metadata": {
  "kernelspec": {
   "display_name": "airline-data-hub-o2OCMei0-py3.11",
   "language": "python",
   "name": "python3"
  },
  "language_info": {
   "codemirror_mode": {
    "name": "ipython",
    "version": 3
   },
   "file_extension": ".py",
   "mimetype": "text/x-python",
   "name": "python",
   "nbconvert_exporter": "python",
   "pygments_lexer": "ipython3",
   "version": "3.11.6"
  }
 },
 "nbformat": 4,
 "nbformat_minor": 2
}
